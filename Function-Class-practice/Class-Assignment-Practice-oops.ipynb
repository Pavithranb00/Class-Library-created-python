{
 "cells": [
  {
   "cell_type": "code",
   "execution_count": 1,
   "metadata": {},
   "outputs": [],
   "source": [
    "#create a class & function using-Subfields\n",
    "class SubfieldsInAI():\n",
    "    def Subfields():\n",
    "        print(\"Sub-fields in AI are:\")\n",
    "        list=[\"Machine Learning\",\"Neural Networks\",\"Vision\",\"Robotics\",\"Speech Processing\",\"Natural Language Processing\"]\n",
    "        for temp in list:\n",
    "            print(temp)"
   ]
  },
  {
   "cell_type": "code",
   "execution_count": 2,
   "metadata": {},
   "outputs": [
    {
     "name": "stdout",
     "output_type": "stream",
     "text": [
      "Sub-fields in AI are:\n",
      "Machine Learning\n",
      "Neural Networks\n",
      "Vision\n",
      "Robotics\n",
      "Speech Processing\n",
      "Natural Language Processing\n"
     ]
    }
   ],
   "source": [
    "SubfieldsInAI.Subfields()"
   ]
  },
  {
   "cell_type": "code",
   "execution_count": 3,
   "metadata": {},
   "outputs": [],
   "source": [
    "#create a class & function using-OddEven\n",
    "class OddEven():\n",
    "    def OddEven():\n",
    "        num=int(input(\"Enter a Number: \"))\n",
    "        if(num%2)==0:\n",
    "            print(num,\"is Even number\")\n",
    "            msg=\"is Even number\"\n",
    "        else:\n",
    "            print(num,\"is Odd number\")\n",
    "            msg=\"is Odd number\"\n",
    "            return msg"
   ]
  },
  {
   "cell_type": "code",
   "execution_count": 4,
   "metadata": {},
   "outputs": [
    {
     "name": "stdout",
     "output_type": "stream",
     "text": [
      "Enter a Number: 52452\n",
      "52452 is Even number\n"
     ]
    }
   ],
   "source": [
    "OddEven.OddEven()"
   ]
  },
  {
   "cell_type": "code",
   "execution_count": 11,
   "metadata": {},
   "outputs": [
    {
     "name": "stdout",
     "output_type": "stream",
     "text": [
      "the given number is Even\n"
     ]
    }
   ],
   "source": [
    "if(msg==0,\"is Even number\"):\n",
    "    print(\"the given number is Even\")\n",
    "else:\n",
    "    print(\"the given number is odd\")"
   ]
  },
  {
   "cell_type": "code",
   "execution_count": 29,
   "metadata": {},
   "outputs": [],
   "source": [
    "#create a class & function\n",
    "class ElegiblityForMarriage():\n",
    "    def Eligible():\n",
    "        gen=input(\"Your Gender: \")\n",
    "        age=int(input(\"Your Age: \"))\n",
    "        if(age<=21):\n",
    "            print(\"Not Eligible\")\n",
    "            cat=\"Not Eligible\"\n",
    "        else:\n",
    "            print(\"Eligible\")\n",
    "            cat=\"Eligible\"\n",
    "            return cat"
   ]
  },
  {
   "cell_type": "code",
   "execution_count": 30,
   "metadata": {},
   "outputs": [
    {
     "name": "stdout",
     "output_type": "stream",
     "text": [
      "Your Gender: male\n",
      "Your Age: 20\n",
      "Not Eligible\n"
     ]
    }
   ],
   "source": [
    "ElegiblityForMarriage.Eligible()"
   ]
  },
  {
   "cell_type": "code",
   "execution_count": 32,
   "metadata": {},
   "outputs": [],
   "source": [
    "#create class & funtion using percentage\n",
    "class FindPercent():\n",
    "    def percentage():\n",
    "        sub1=int(input(\"Subject1: \"))\n",
    "        sub2=int(input(\"Subject2: \"))\n",
    "        sub3=int(input(\"Subject3: \"))\n",
    "        sub4=int(input(\"Subject4: \"))\n",
    "        sub5=int(input(\"Subject5: \"))\n",
    "        total=sub1+sub2+sub3+sub4+sub5\n",
    "        print(\"total: \",sub1+sub2+sub3+sub4+sub5)\n",
    "        percent=total/500*100\n",
    "        print(\"percentage: \",percent)\n",
    "    "
   ]
  },
  {
   "cell_type": "code",
   "execution_count": 33,
   "metadata": {},
   "outputs": [
    {
     "name": "stdout",
     "output_type": "stream",
     "text": [
      "Subject1: 98\n",
      "Subject2: 87\n",
      "Subject3: 95\n",
      "Subject4: 93\n",
      "Subject5: 95\n",
      "total:  468\n",
      "percentage:  93.60000000000001\n"
     ]
    }
   ],
   "source": [
    "FindPercent.percentage()"
   ]
  },
  {
   "cell_type": "code",
   "execution_count": 35,
   "metadata": {},
   "outputs": [],
   "source": [
    "#create a class & function using-triangle\n",
    "class triangle():\n",
    "    def triangle():\n",
    "        h=int(input(\"Height: \"))\n",
    "        b=int(input(\"Breadth: \"))\n",
    "        Area_formula=h*b/2\n",
    "        print(\"Area formula\",h*b/2)\n",
    "        Area_of_Triangle= Area_formula\n",
    "        print(\"Area of Triangle\",h*b/2)\n",
    "        h1=int(input(\"Height1: \"))\n",
    "        h2=int(input(\"Height2: \"))\n",
    "        b1=int(input(\"Breadth: \"))\n",
    "        perimeter_formula=h1+h2+b1\n",
    "        print(\"perimeter formula: \",h1+h2+b1)\n",
    "        print(\"perimeter of triangle: \",perimeter_formula)"
   ]
  },
  {
   "cell_type": "code",
   "execution_count": 36,
   "metadata": {},
   "outputs": [
    {
     "name": "stdout",
     "output_type": "stream",
     "text": [
      "Height: 32\n",
      "Breadth: 34\n",
      "Area formula 544.0\n",
      "Area of Triangle 544.0\n",
      "Height1: 2\n",
      "Height2: 4\n",
      "Breadth: 4\n",
      "perimeter formula:  10\n",
      "perimeter of triangle:  10\n"
     ]
    }
   ],
   "source": [
    "triangle.triangle()"
   ]
  },
  {
   "cell_type": "code",
   "execution_count": null,
   "metadata": {},
   "outputs": [],
   "source": []
  }
 ],
 "metadata": {
  "kernelspec": {
   "display_name": "Python 3",
   "language": "python",
   "name": "python3"
  },
  "language_info": {
   "codemirror_mode": {
    "name": "ipython",
    "version": 3
   },
   "file_extension": ".py",
   "mimetype": "text/x-python",
   "name": "python",
   "nbconvert_exporter": "python",
   "pygments_lexer": "ipython3",
   "version": "3.7.4"
  }
 },
 "nbformat": 4,
 "nbformat_minor": 2
}
