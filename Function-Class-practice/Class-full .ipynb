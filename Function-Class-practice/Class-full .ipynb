{
 "cells": [
  {
   "cell_type": "code",
   "execution_count": 5,
   "metadata": {},
   "outputs": [],
   "source": [
    "class accessFiles():\n",
    "    def Subfields():\n",
    "        print(\"Sub-fields in AI are:\")\n",
    "        list=[\"Machine Learning\",\"Neural Networks\",\"Vision\",\"Robotics\",\"Speech Processing\",\"Natural Language Processing\"]\n",
    "        for temp in list:\n",
    "            print(temp)\n",
    "            \n",
    "    def OddEven():\n",
    "        num=int(input(\"Enter a Number: \"))\n",
    "        if(num%2)==0:\n",
    "            print(num,\"is Even number\")\n",
    "            msg=\"is Even number\"\n",
    "        else:\n",
    "            print(num,\"is Odd number\")\n",
    "            msg=\"is Odd number\"\n",
    "            return msg\n",
    "        \n",
    "    def Eligible():\n",
    "        gen=input(\"Your Gender: \")\n",
    "        age=int(input(\"Your Age: \"))\n",
    "        if(age<=21):\n",
    "            print(\"Not Eligible\")\n",
    "            cat=\"Not Eligible\"\n",
    "        else:\n",
    "            print(\"Eligible\")\n",
    "            cat=\"Eligible\"\n",
    "            return cat\n",
    "        \n",
    "    def percentage():\n",
    "        sub1=int(input(\"Subject1: \"))\n",
    "        sub2=int(input(\"Subject2: \"))\n",
    "        sub3=int(input(\"Subject3: \"))\n",
    "        sub4=int(input(\"Subject4: \"))\n",
    "        sub5=int(input(\"Subject5: \"))\n",
    "        total=sub1+sub2+sub3+sub4+sub5\n",
    "        print(\"total: \",sub1+sub2+sub3+sub4+sub5)\n",
    "        percent=total/500*100\n",
    "        print(\"percentage: \",percent)\n",
    "        \n",
    "    def triangle():\n",
    "        h=int(input(\"Height: \"))\n",
    "        b=int(input(\"Breadth: \"))\n",
    "        Area_formula=h*b/2\n",
    "        print(\"Area formula\",h*b/2)\n",
    "        Area_of_Triangle= Area_formula\n",
    "        print(\"Area of Triangle\",h*b/2)\n",
    "        h1=int(input(\"Height1: \"))\n",
    "        h2=int(input(\"Height2: \"))\n",
    "        b1=int(input(\"Breadth: \"))\n",
    "        perimeter_formula=h1+h2+b1\n",
    "        print(\"perimeter formula: \",h1+h2+b1)\n",
    "        print(\"perimeter of triangle: \",perimeter_formula)"
   ]
  },
  {
   "cell_type": "code",
   "execution_count": 6,
   "metadata": {},
   "outputs": [
    {
     "name": "stdout",
     "output_type": "stream",
     "text": [
      "Sub-fields in AI are:\n",
      "Machine Learning\n",
      "Neural Networks\n",
      "Vision\n",
      "Robotics\n",
      "Speech Processing\n",
      "Natural Language Processing\n"
     ]
    }
   ],
   "source": [
    "accessFiles.Subfields()"
   ]
  },
  {
   "cell_type": "code",
   "execution_count": 7,
   "metadata": {},
   "outputs": [
    {
     "name": "stdout",
     "output_type": "stream",
     "text": [
      "Enter a Number: 52452\n",
      "52452 is Even number\n"
     ]
    }
   ],
   "source": [
    "accessFiles.OddEven()"
   ]
  },
  {
   "cell_type": "code",
   "execution_count": 8,
   "metadata": {},
   "outputs": [
    {
     "name": "stdout",
     "output_type": "stream",
     "text": [
      "Your Gender: male\n",
      "Your Age: 20\n",
      "Not Eligible\n"
     ]
    }
   ],
   "source": [
    "accessFiles.Eligible()"
   ]
  },
  {
   "cell_type": "code",
   "execution_count": 9,
   "metadata": {},
   "outputs": [
    {
     "name": "stdout",
     "output_type": "stream",
     "text": [
      "Subject1: 98\n",
      "Subject2: 87\n",
      "Subject3: 95\n",
      "Subject4: 95\n",
      "Subject5: 93\n",
      "total:  468\n",
      "percentage:  93.60000000000001\n"
     ]
    }
   ],
   "source": [
    "accessFiles.percentage()"
   ]
  },
  {
   "cell_type": "code",
   "execution_count": 10,
   "metadata": {},
   "outputs": [
    {
     "name": "stdout",
     "output_type": "stream",
     "text": [
      "Height: 32\n",
      "Breadth: 34\n",
      "Area formula 544.0\n",
      "Area of Triangle 544.0\n",
      "Height1: 2\n",
      "Height2: 4\n",
      "Breadth: 4\n",
      "perimeter formula:  10\n",
      "perimeter of triangle:  10\n"
     ]
    }
   ],
   "source": [
    "accessFiles.triangle()"
   ]
  },
  {
   "cell_type": "code",
   "execution_count": null,
   "metadata": {},
   "outputs": [],
   "source": []
  }
 ],
 "metadata": {
  "kernelspec": {
   "display_name": "Python 3",
   "language": "python",
   "name": "python3"
  },
  "language_info": {
   "codemirror_mode": {
    "name": "ipython",
    "version": 3
   },
   "file_extension": ".py",
   "mimetype": "text/x-python",
   "name": "python",
   "nbconvert_exporter": "python",
   "pygments_lexer": "ipython3",
   "version": "3.7.4"
  }
 },
 "nbformat": 4,
 "nbformat_minor": 2
}
